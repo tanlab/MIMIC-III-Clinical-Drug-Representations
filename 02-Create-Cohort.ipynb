{
 "cells": [
  {
   "cell_type": "code",
   "execution_count": null,
   "id": "99efa808",
   "metadata": {},
   "outputs": [],
   "source": [
    "import pandas as pd\n",
    "import numpy as np\n",
    "import re\n",
    "import math\n",
    "import os \n",
    "\n",
    "from pubchempy import get_compounds, Compound\n",
    "from molvs import validate_smiles, standardize_smiles"
   ]
  },
  {
   "cell_type": "markdown",
   "id": "640cd856",
   "metadata": {},
   "source": [
    "## Read MIMIC Extract Data"
   ]
  },
  {
   "cell_type": "code",
   "execution_count": null,
   "id": "ad952c8e",
   "metadata": {},
   "outputs": [],
   "source": [
    "mimic_extract_path = \"mimic-extract/\"\n",
    "\n",
    "x_train = pd.read_pickle(os.path.join(mimic_extract_path, \"lvl2_imputer_train.pkl\"))\n",
    "\n",
    "\n",
    "x_dev = pd.read_pickle(os.path.join(mimic_extract_path, \"lvl2_imputer_dev.pkl\"))\n",
    "x_test = pd.read_pickle(os.path.join(mimic_extract_path, \"lvl2_imputer_test.pkl\"))\n",
    "\n",
    "y_train = pd.read_pickle(os.path.join(mimic_extract_path, \"Ys_train.pkl\"))\n",
    "y_dev = pd.read_pickle(os.path.join(mimic_extract_path, \"Ys_dev.pkl\"))\n",
    "y_test = pd.read_pickle(os.path.join(mimic_extract_path, \"Ys_test.pkl\"))\n",
    "\n",
    "ys = pd.read_pickle(os.path.join(mimic_extract_path, \"Ys.pkl\"))"
   ]
  },
  {
   "cell_type": "code",
   "execution_count": null,
   "id": "baeb07cf",
   "metadata": {},
   "outputs": [],
   "source": [
    "# patient_train_dict = {}\n",
    "\n",
    "# for i in y_train.itertuples():\n",
    "#     patient_id = i.Index[0]\n",
    "#     mort_hosp = i.mort_hosp\n",
    "#     mort_icu = i.mort_icu\n",
    "#     los_3 = i.los_3\n",
    "#     los_7 = i.los_7\n",
    "#     patient_train_dict[patient_id] = {\"mort_hosp\": mort_hosp, \"mort_icu\": mort_icu, \"los_3\": los_3, \"los_7\": los_7}\n",
    "    \n",
    "# patient_dev_dict = {}\n",
    "\n",
    "# for i in y_dev.itertuples():\n",
    "#     patient_id = i.Index[0]\n",
    "#     mort_hosp = i.mort_hosp\n",
    "#     mort_icu = i.mort_icu\n",
    "#     los_3 = i.los_3\n",
    "#     los_7 = i.los_7\n",
    "#     patient_dev_dict[patient_id] = {\"mort_hosp\": mort_hosp, \"mort_icu\": mort_icu, \"los_3\": los_3, \"los_7\": los_7}\n",
    "    \n",
    "# patient_test_dict = {}\n",
    "\n",
    "# for i in y_test.itertuples():\n",
    "#     patient_id = i.Index[0]\n",
    "#     mort_hosp = i.mort_hosp\n",
    "#     mort_icu = i.mort_icu\n",
    "#     los_3 = i.los_3\n",
    "#     los_7 = i.los_7\n",
    "#     patient_test_dict[patient_id] = {\"mort_hosp\": mort_hosp, \"mort_icu\": mort_icu, \"los_3\": los_3, \"los_7\": los_7}\n",
    "    \n",
    "# protocol_num = 5\n",
    "# pd.to_pickle(patient_train_dict, \"patient_train_dict_\"+str(protocol_num)+\".p\", protocol=protocol_num)\n",
    "# pd.to_pickle(patient_dev_dict, \"patient_dev_dict_\"+str(protocol_num)+\".p\", protocol=protocol_num)\n",
    "# pd.to_pickle(patient_test_dict, \"patient_test_dict_\"+str(protocol_num)+\".p\", protocol=protocol_num)"
   ]
  },
  {
   "cell_type": "markdown",
   "id": "2a1882c4",
   "metadata": {},
   "source": [
    "## Read Patient Pubchem Dict"
   ]
  },
  {
   "cell_type": "code",
   "execution_count": null,
   "id": "435d84b1",
   "metadata": {},
   "outputs": [],
   "source": [
    "patient_pubchem_dict = pd.read_pickle(\"patient_pubchem_dict.p\")"
   ]
  },
  {
   "cell_type": "markdown",
   "id": "193c0853",
   "metadata": {},
   "source": [
    "## Create TimeSeries Cohort"
   ]
  },
  {
   "cell_type": "code",
   "execution_count": null,
   "id": "44d773d8",
   "metadata": {},
   "outputs": [],
   "source": [
    "patient_ids = list(patient_pubchem_dict.keys())"
   ]
  },
  {
   "cell_type": "code",
   "execution_count": null,
   "id": "97f43aaf",
   "metadata": {},
   "outputs": [],
   "source": [
    "x_train_sub = x_train.loc[patient_ids]\n",
    "x_dev_sub = x_dev.loc[patient_ids]\n",
    "x_test_sub = x_test.loc[patient_ids]\n",
    "\n",
    "y_train_sub = y_train.loc[patient_ids]\n",
    "y_dev_sub = y_dev.loc[patient_ids]\n",
    "y_test_sub = y_test.loc[patient_ids]\n",
    "ys_sub = ys.loc[patient_ids]\n",
    "\n",
    "x_train_mean = x_train_sub.loc[:, pd.IndexSlice[:, 'mean']]\n",
    "x_dev_mean = x_dev_sub.loc[:, pd.IndexSlice[:, 'mean']]\n",
    "x_test_mean = x_test_sub.loc[:, pd.IndexSlice[:, 'mean']]\n",
    "\n",
    "x_train_mean = x_train_mean.sort_index()\n",
    "x_dev_mean = x_dev_mean.sort_index()\n",
    "x_test_mean = x_test_mean.sort_index()\n",
    "\n",
    "y_train_sub = y_train_sub.sort_index()\n",
    "y_dev_sub = y_dev_sub.sort_index()\n",
    "y_test_sub  = y_test_sub.sort_index()\n",
    "ys_sub  = ys_sub.sort_index()\n",
    "\n",
    "sub_train = x_train_mean.values\n",
    "sub_dev = x_dev_mean.values\n",
    "sub_test = x_test_mean.values\n",
    "\n",
    "# reshape the data for timeseries prediction\n",
    "x_train_lstm = sub_train.reshape(int(sub_train.shape[0] / 24), 24, 104)\n",
    "x_dev_lstm = sub_dev.reshape(int(sub_dev.shape[0] / 24), 24, 104)\n",
    "x_test_lstm = sub_test.reshape(int(sub_test.shape[0] / 24), 24, 104)"
   ]
  },
  {
   "cell_type": "code",
   "execution_count": null,
   "id": "a210c43e",
   "metadata": {},
   "outputs": [],
   "source": [
    "x_train_lstm.shape, y_train_sub.shape, x_dev_lstm.shape, y_dev_sub.shape, x_test_lstm.shape, y_test_sub.shape, ys_sub.shape"
   ]
  },
  {
   "cell_type": "code",
   "execution_count": null,
   "id": "982368bc",
   "metadata": {},
   "outputs": [],
   "source": [
    "timeseries_data_path = \"data/timeseries/\"\n",
    "\n",
    "pd.to_pickle(x_train_lstm, os.path.join(timeseries_data_path, \"x_train_lstm.p\"))\n",
    "pd.to_pickle(x_dev_lstm, os.path.join(timeseries_data_path, \"x_dev_lstm.p\"))\n",
    "pd.to_pickle(x_test_lstm, os.path.join(timeseries_data_path, \"x_test_lstm.p\"))\n",
    "\n",
    "pd.to_pickle(y_train_sub, os.path.join(timeseries_data_path, \"y_train.p\"))\n",
    "pd.to_pickle(y_dev_sub, os.path.join(timeseries_data_path, \"y_dev.p\"))\n",
    "pd.to_pickle(y_test_sub, os.path.join(timeseries_data_path, \"y_test.p\"))\n",
    "pd.to_pickle(ys_sub, os.path.join(timeseries_data_path, \"ys.p\"))"
   ]
  },
  {
   "cell_type": "markdown",
   "id": "bd824958",
   "metadata": {},
   "source": [
    "## Utils"
   ]
  },
  {
   "cell_type": "code",
   "execution_count": null,
   "id": "f6e24616",
   "metadata": {},
   "outputs": [],
   "source": [
    "train_id_set = set()\n",
    "for i in y_train_sub.index:\n",
    "    train_id_set.add(i[0])\n",
    "\n",
    "dev_id_set = set()\n",
    "for i in y_dev_sub.index:\n",
    "    dev_id_set.add(i[0])\n",
    "    \n",
    "test_id_set = set()\n",
    "for i in y_test_sub.index:\n",
    "    test_id_set.add(i[0])"
   ]
  },
  {
   "cell_type": "markdown",
   "id": "fa39f342",
   "metadata": {},
   "source": [
    "## Create Unique Drug with Canonical Smiles"
   ]
  },
  {
   "cell_type": "code",
   "execution_count": null,
   "id": "40229c29",
   "metadata": {},
   "outputs": [],
   "source": [
    "patient_unique_canonical_smiles_dict = {}\n",
    "\n",
    "patient_unique_canonical_smiles_train_dict = {}\n",
    "patient_unique_canonical_smiles_dev_dict = {}\n",
    "patient_unique_canonical_smiles_test_dict = {}\n",
    "\n",
    "for patient_id_, pubchem_id_list_ in patient_pubchem_dict.items():\n",
    "        \n",
    "    cid_list_ = []\n",
    "    for cid_ in pubchem_id_list_:\n",
    "        cid_list_.append(cid_.canonical_smiles)\n",
    "    \n",
    "    patient_unique_canonical_smiles_dict[patient_id_] = cid_list_\n",
    "    \n",
    "    if patient_id_ in train_id_set:\n",
    "        patient_unique_canonical_smiles_train_dict[patient_id_] = cid_list_\n",
    "    \n",
    "    if patient_id_ in dev_id_set:\n",
    "        patient_unique_canonical_smiles_dev_dict[patient_id_] = cid_list_\n",
    "        \n",
    "    if patient_id_ in test_id_set:\n",
    "        patient_unique_canonical_smiles_test_dict[patient_id_] = cid_list_"
   ]
  },
  {
   "cell_type": "code",
   "execution_count": null,
   "id": "93d59536",
   "metadata": {},
   "outputs": [],
   "source": [
    "for patient_, smiles_ in patient_unique_canonical_smiles_dict.items():\n",
    "    if len(smiles_) == 0:\n",
    "        print(patient_)"
   ]
  },
  {
   "cell_type": "code",
   "execution_count": null,
   "id": "b06b3a7f",
   "metadata": {},
   "outputs": [],
   "source": [
    "unique_path = \"data/drug_unique/\"\n",
    "\n",
    "pd.to_pickle(patient_unique_canonical_smiles_dict, os.path.join(unique_path, \"smiles_all.p\"))\n",
    "pd.to_pickle(patient_unique_canonical_smiles_train_dict, os.path.join(unique_path, \"smiles_train.p\"))\n",
    "pd.to_pickle(patient_unique_canonical_smiles_dev_dict, os.path.join(unique_path, \"smiles_dev.p\"))\n",
    "pd.to_pickle(patient_unique_canonical_smiles_test_dict, os.path.join(unique_path, \"smiles_test.p\"))"
   ]
  }
 ],
 "metadata": {
  "kernelspec": {
   "display_name": "Python 3 (ipykernel)",
   "language": "python",
   "name": "python3"
  },
  "language_info": {
   "codemirror_mode": {
    "name": "ipython",
    "version": 3
   },
   "file_extension": ".py",
   "mimetype": "text/x-python",
   "name": "python",
   "nbconvert_exporter": "python",
   "pygments_lexer": "ipython3",
   "version": "3.8.10"
  }
 },
 "nbformat": 4,
 "nbformat_minor": 5
}
