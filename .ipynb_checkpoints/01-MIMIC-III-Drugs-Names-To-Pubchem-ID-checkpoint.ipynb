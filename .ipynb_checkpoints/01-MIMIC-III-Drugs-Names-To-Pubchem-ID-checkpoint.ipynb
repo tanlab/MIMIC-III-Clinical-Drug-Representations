{
 "cells": [
  {
   "cell_type": "code",
   "execution_count": null,
   "id": "324c7abf",
   "metadata": {},
   "outputs": [],
   "source": [
    "import pandas as pd\n",
    "import numpy as np\n",
    "import re\n",
    "import math\n",
    "import datetime\n",
    "import os \n",
    "\n",
    "from pubchempy import get_compounds, Compound\n",
    "from molvs import validate_smiles\n",
    "# import cirpy\n",
    "# from chembl_webresource_client.new_client import new_client"
   ]
  },
  {
   "cell_type": "markdown",
   "id": "89952992",
   "metadata": {},
   "source": [
    "## Read MIMIC-Extract Data"
   ]
  },
  {
   "cell_type": "code",
   "execution_count": null,
   "id": "cddf58bc",
   "metadata": {},
   "outputs": [],
   "source": [
    "mimic_extract_path = \"mimic-extract/\""
   ]
  },
  {
   "cell_type": "code",
   "execution_count": null,
   "id": "57ba18e1",
   "metadata": {},
   "outputs": [],
   "source": [
    "x_train = pd.read_pickle(os.path.join(mimic_extract_path, \"lvl2_imputer_train.pkl\"))\n",
    "\n",
    "\n",
    "x_dev = pd.read_pickle(os.path.join(mimic_extract_path, \"lvl2_imputer_dev.pkl\"))\n",
    "x_test = pd.read_pickle(os.path.join(mimic_extract_path, \"lvl2_imputer_test.pkl\"))\n",
    "\n",
    "y_train = pd.read_pickle(os.path.join(mimic_extract_path, \"Ys_train.pkl\"))\n",
    "y_dev = pd.read_pickle(os.path.join(mimic_extract_path, \"Ys_dev.pkl\"))\n",
    "y_test = pd.read_pickle(os.path.join(mimic_extract_path, \"Ys_test.pkl\"))\n",
    "\n",
    "ys = pd.read_pickle(os.path.join(mimic_extract_path, \"Ys.pkl\"))"
   ]
  },
  {
   "cell_type": "markdown",
   "id": "4dcc0b25",
   "metadata": {},
   "source": [
    "## Read MIMIC Data"
   ]
  },
  {
   "cell_type": "code",
   "execution_count": null,
   "id": "e878efdc",
   "metadata": {},
   "outputs": [],
   "source": [
    "mimic_path = \"mimic-iii/\""
   ]
  },
  {
   "cell_type": "code",
   "execution_count": null,
   "id": "95b65046",
   "metadata": {},
   "outputs": [],
   "source": [
    "icustays_df = pd.read_csv(os.path.join(mimic_path, \"ICUSTAYS.csv\"))\n",
    "admission_df = pd.read_csv(os.path.join(mimic_path, \"ADMISSIONS.csv\"))\n",
    "prescription_df = pd.read_csv(os.path.join(mimic_path, \"PRESCRIPTIONS.csv\"))"
   ]
  },
  {
   "cell_type": "markdown",
   "id": "28d24b63",
   "metadata": {},
   "source": [
    "## Eliminate Prescription Table"
   ]
  },
  {
   "cell_type": "markdown",
   "id": "5656e765",
   "metadata": {},
   "source": [
    "1. based on icu id\n",
    "2. based on time (first 24h)"
   ]
  },
  {
   "cell_type": "code",
   "execution_count": null,
   "id": "0417ad82",
   "metadata": {},
   "outputs": [],
   "source": [
    "icu_stay_ids = set()\n",
    "for i in ys.itertuples():\n",
    "    stay_id_ = i.Index[2]\n",
    "    icu_stay_ids.add(stay_id_)"
   ]
  },
  {
   "cell_type": "code",
   "execution_count": null,
   "id": "e6b60528",
   "metadata": {},
   "outputs": [],
   "source": [
    "# based on icu id\n",
    "print(prescription_df.shape)\n",
    "sub_prescription_df = prescription_df[prescription_df.ICUSTAY_ID.isin(list(icu_stay_ids))]\n",
    "print(sub_prescription_df.shape)"
   ]
  },
  {
   "cell_type": "code",
   "execution_count": null,
   "id": "748a26ec",
   "metadata": {},
   "outputs": [],
   "source": [
    "# # based on icu time (first 24h)\n",
    "# sub_icu_df = icustays_df[icustays_df.ICUSTAY_ID.isin(list(icu_stay_ids))]\n",
    "\n",
    "# patient_intime_dict = {}\n",
    "# for i in sub_icu_df.itertuples():\n",
    "\n",
    "#     patient_id_ = i.SUBJECT_ID\n",
    "#     icustay_id_ = i.ICUSTAY_ID\n",
    "#     intime_ = i.INTIME\n",
    "#     if patient_id_ in patient_intime_dict:\n",
    "#         print(\"ERROR\", pat_id_)\n",
    "#     else:\n",
    "#         patient_intime_dict[patient_id_] = intime_\n",
    "\n",
    "# print(\"We have \", len(patient_intime_dict), \" patients in the beginning before each preprocessing step\")\n",
    "\n",
    "# drug_names_set = set()\n",
    "# drug_generic_names_set = set()\n",
    "# drug_ndc_set = set()\n",
    "# drug_index_set = set()\n",
    "\n",
    "# for patient_, intime_ in patient_intime_dict.items():\n",
    "        \n",
    "    \n",
    "#     intime_date_ = datetime.datetime.strptime(intime_, '%Y-%m-%d %H:%M:%S')\n",
    "#     next_date_ = (intime_date_ + datetime.timedelta(days=1))\n",
    "    \n",
    "#     result_ = sub_prescription_df[sub_prescription_df.SUBJECT_ID == patient_]\n",
    "    \n",
    "#     if len(result_) == 0: \n",
    "#         # This patients have not any drug in sub prescription df\n",
    "#         continue \n",
    "    \n",
    "#     for drug_ in result_.itertuples():\n",
    "        \n",
    "#         #if isinstance(drug.STARTDATE, float): continue\n",
    "            \n",
    "#         drug_start_day_ = datetime.datetime.strptime(drug_.STARTDATE, '%Y-%m-%d %H:%M:%S').day\n",
    "        \n",
    "#         intime_day_ = intime_date_.day\n",
    "#         next_day_ = next_date_.day\n",
    "        \n",
    "#         if drug_start_day_ == intime_day_ or drug_start_day_ == next_day_:\n",
    "#             drug_names_set.add(drug_.DRUG)\n",
    "#             drug_generic_names_set.add(drug_.DRUG_NAME_GENERIC)\n",
    "#             drug_ndc_set.add(drug_.NDC)\n",
    "#             drug_index_set.add(drug_.Index)\n",
    "#         else:\n",
    "#             continue\n",
    "            \n",
    "## Cause it is a little bit time consuming operation, we save these variables\n",
    "# pd.to_pickle(drug_names_set, \"drug_names_set.p\")\n",
    "# pd.to_pickle(drug_generic_names_set, \"drug_generic_names_set.p\")\n",
    "# pd.to_pickle(drug_ndc_set, \"drug_ndc_set.p\")\n",
    "# pd.to_pickle(drug_index_set, \"drug_index_set.p\")"
   ]
  },
  {
   "cell_type": "code",
   "execution_count": null,
   "id": "ae53d20a",
   "metadata": {},
   "outputs": [],
   "source": [
    "drug_names_set = pd.read_pickle(\"drug_names_set.p\")\n",
    "drug_generic_names_set = pd.read_pickle(\"drug_generic_names_set.p\")\n",
    "drug_ndc_set = pd.read_pickle(\"drug_ndc_set.p\")\n",
    "drug_index_set = pd.read_pickle(\"drug_index_set.p\")\n",
    "\n",
    "## All neccesary info is stored in these variables that we need to find\n",
    "print (len(drug_names_set), len(drug_generic_names_set), len(drug_ndc_set), len(drug_index_set))"
   ]
  },
  {
   "cell_type": "markdown",
   "id": "ebdfe224",
   "metadata": {},
   "source": [
    "## Preprocessing Drug Names"
   ]
  },
  {
   "cell_type": "code",
   "execution_count": null,
   "id": "8e01b80f",
   "metadata": {},
   "outputs": [],
   "source": [
    "def preprocess(text):\n",
    "    temp_drug = text.strip()\n",
    "    temp_drug = temp_drug.replace(\"*NF*\", \"\")\n",
    "    temp_drug = temp_drug.replace(\"NF*\", \"\")\n",
    "    temp_drug = temp_drug.replace(\"NEO*IV*\", \"\")\n",
    "    temp_drug = temp_drug.replace(\"NEO*PO*\", \"\")\n",
    "    temp_drug = temp_drug.replace(\"*nf*\", \"\")\n",
    "    temp_drug = temp_drug.replace(\"*nf\", \"\")\n",
    "    temp_drug = temp_drug.replace(\"Neo*Nasal*\", \"\")\n",
    "    temp_drug = temp_drug.replace(\"<IND>\", \"\")\n",
    "    temp_drug = temp_drug.replace(\"~<IND>\", \"\")\n",
    "    temp_drug = temp_drug.replace(\"NEO*IM*\", \"\")\n",
    "    temp_drug = temp_drug.replace(\"< IND>\", \"\")\n",
    "    temp_drug = temp_drug.replace(\"NS\", \"\")\n",
    "    temp_drug = temp_drug.replace(\"P.f.\", \"\")\n",
    "    temp_drug = temp_drug.replace(\"*NF\", \"\")\n",
    "    \n",
    "    temp_drug = re.sub(r'\\d*%', '', temp_drug)\n",
    "    temp_drug = re.sub(r'\\d+\\.\\d+', '', temp_drug)\n",
    "    temp_drug = re.sub(r'\\d+\\.', '', temp_drug)\n",
    "    temp_drug = re.sub(r\"\\([^()]*\\)\", \"\", temp_drug)\n",
    "    temp_drug = \" \".join(temp_drug.split())\n",
    "    temp_drug = temp_drug.strip()\n",
    "    \n",
    "    return temp_drug"
   ]
  },
  {
   "cell_type": "code",
   "execution_count": null,
   "id": "81811bc9",
   "metadata": {},
   "outputs": [],
   "source": [
    "## create dictionary to store drug - preprocessed version\n",
    "\n",
    "# drug name - preprocesed drug name\n",
    "\n",
    "preprocessed_to_drug_dict = {}\n",
    "drug_to_preprocessed_dict = {}\n",
    "\n",
    "for drug_ in drug_names_set:\n",
    "    \n",
    "    pre_drug_ = preprocess(drug_)\n",
    "    \n",
    "    drug_to_preprocessed_dict[drug_] = pre_drug_\n",
    "    \n",
    "    if pre_drug_ in preprocessed_to_drug_dict:\n",
    "        preprocessed_to_drug_dict[pre_drug_].append(drug_)\n",
    "    else:\n",
    "        preprocessed_to_drug_dict[pre_drug_] = [drug_]"
   ]
  },
  {
   "cell_type": "code",
   "execution_count": null,
   "id": "9fe31288",
   "metadata": {},
   "outputs": [],
   "source": [
    "print(\"There are\", len(drug_to_preprocessed_dict), \"unique drugs\")\n",
    "print(\"There are\", len(preprocessed_to_drug_dict), \"unique preproccesed drugs\")"
   ]
  },
  {
   "cell_type": "markdown",
   "id": "cfb5fa0b",
   "metadata": {},
   "source": [
    "## Search All Drugs in Pubchem and other sources"
   ]
  },
  {
   "cell_type": "markdown",
   "id": "f4e14ffc",
   "metadata": {},
   "source": [
    "### Search Based on Original Drug Name in Pubchem"
   ]
  },
  {
   "cell_type": "code",
   "execution_count": null,
   "id": "541bd433",
   "metadata": {},
   "outputs": [],
   "source": [
    "## Cause it is a little bit time consuming operation, we save these variables\n",
    "\n",
    "# all_drugs_pubchem_dict = {}\n",
    "# all_drugs_missing_pubchem_set = set()\n",
    "\n",
    "# for drug_name_ in prescription_df.DRUG.unique():\n",
    "    \n",
    "#     comps_ = get_compounds(drug_name, 'name')\n",
    "    \n",
    "#     if len(comps_) != 0:\n",
    "#         all_drugs_pubchem_dict[drug_name_] = comps_\n",
    "#     else: \n",
    "#         all_drugs_missing_pubchem_set.add(drug_name_)\n",
    "\n",
    "# pd.to_pickle(all_drugs_pubchem_dict, \"all_drugs_pubchem_dict.p\")\n",
    "# pd.to_pickle(all_drugs_missing_pubchem_set, \"all_drugs_missing_pubchem_set.p\")"
   ]
  },
  {
   "cell_type": "code",
   "execution_count": null,
   "id": "aa44269c",
   "metadata": {},
   "outputs": [],
   "source": [
    "# all_drugs_pubchem_dict = drugs that we can find in pubchem\n",
    "# all_drugs_missing_pubchem_set = drugs that we can NOT find in pubchem\n",
    "\n",
    "all_drugs_pubchem_dict = pd.read_pickle(\"all_drugs_pubchem_dict.p\")\n",
    "all_drugs_missing_pubchem_set = pd.read_pickle(\"all_drugs_missing_pubchem_set.p\")"
   ]
  },
  {
   "cell_type": "code",
   "execution_count": null,
   "id": "d856aa81",
   "metadata": {},
   "outputs": [],
   "source": [
    "print(\"There are\", len(prescription_df.DRUG.unique()), \"unique drugs in MIMIC-III\")\n",
    "print(\"There are\", len(all_drugs_pubchem_dict), \"drugs that we found in pubchem for all drugs in MIMIC-III\")\n",
    "print(\"There are still\", len(all_drugs_missing_pubchem_set), \"drugs that we need to find for all drugs in MIMIC-III\")\n",
    "\n",
    "print(\"For us, we find\", len(drug_names_set.intersection(set(all_drugs_pubchem_dict.keys()))), \"drugs in\", len(drug_names_set))"
   ]
  },
  {
   "cell_type": "code",
   "execution_count": null,
   "id": "52db4293",
   "metadata": {},
   "outputs": [],
   "source": [
    "#check how many rows find in prescription df\n",
    "\n",
    "missing_index_set = set()\n",
    "final_prescription_df = sub_prescription_df.loc[drug_index_set]\n",
    "drug_names_that_found_in_pubchem = set(all_drugs_pubchem_dict.keys())\n",
    "\n",
    "for i in final_prescription_df.itertuples():\n",
    "    ind_ = i.Index\n",
    "    drug_ = i.DRUG\n",
    "    if drug_ in drug_names_that_found_in_pubchem:\n",
    "        continue\n",
    "    else:\n",
    "        missing_index_set.add(ind_)"
   ]
  },
  {
   "cell_type": "code",
   "execution_count": null,
   "id": "e9cb6887",
   "metadata": {},
   "outputs": [],
   "source": [
    "print(\"After search all drug names in Pubchem, we have still\", len(missing_index_set), \"rows that we need to find\")\n",
    "\n",
    "remain_missing_drugs = drug_names_set.difference(set(all_drugs_pubchem_dict.keys()))\n",
    "print(\"Number of drugs that we need to find\", len(remain_missing_drugs))"
   ]
  },
  {
   "cell_type": "markdown",
   "id": "6c9de2a5",
   "metadata": {},
   "source": [
    "### Search Based on Preprocessed Drug Name in Pubchem"
   ]
  },
  {
   "cell_type": "code",
   "execution_count": null,
   "id": "93cd746e",
   "metadata": {},
   "outputs": [],
   "source": [
    "# ## Cause it is a little bit time consuming operation, we save these variables\n",
    "\n",
    "# preprocessed_drugs_pubchem_dict = {}\n",
    "\n",
    "# for drug_name_ in remain_missing_drugs:\n",
    "\n",
    "#     pre_drug_name_ = preprocess(drug_name_)\n",
    "    \n",
    "#     if pre_drug_name_ == \"\" or pre_drug_name_ == \" \" or pre_drug_name_ == None:\n",
    "#         continue\n",
    "\n",
    "#     comps_ = get_compounds(pre_drug_name_, 'name')\n",
    "    \n",
    "#     if len(comps_) != 0:\n",
    "#         if pre_drug_name_ not in preprocessed_drugs_pubchem_dict:\n",
    "#             preprocessed_drugs_pubchem_dict[pre_drug_name_] = comps_            \n",
    "\n",
    "# pd.to_pickle(preprocessed_drugs_pubchem_dict, \"preprocessed_drugs_pubchem_dict.p\")"
   ]
  },
  {
   "cell_type": "code",
   "execution_count": null,
   "id": "132ccc7c",
   "metadata": {},
   "outputs": [],
   "source": [
    "preprocessed_drugs_pubchem_dict = pd.read_pickle(\"preprocessed_drugs_pubchem_dict.p\")"
   ]
  },
  {
   "cell_type": "code",
   "execution_count": null,
   "id": "d5b04dad",
   "metadata": {},
   "outputs": [],
   "source": [
    "print(\"We find\", len(preprocessed_drugs_pubchem_dict), \"more drugs in preprocessed drug names\")"
   ]
  },
  {
   "cell_type": "code",
   "execution_count": null,
   "id": "fe20bdf2",
   "metadata": {},
   "outputs": [],
   "source": [
    "#check how many rows find in prescription df\n",
    "\n",
    "missing_index_set = set()\n",
    "final_prescription_df = sub_prescription_df.loc[drug_index_set]\n",
    "\n",
    "drug_names_that_found_in_pubchem = set(all_drugs_pubchem_dict.keys())\n",
    "\n",
    "# find real drug names\n",
    "original_names_of_preproccesed_drugs = set()\n",
    "for pre_drug_ in preprocessed_drugs_pubchem_dict.keys():\n",
    "    for original_drug_ in preprocessed_to_drug_dict[pre_drug_]:\n",
    "        original_names_of_preproccesed_drugs.add(original_drug_)\n",
    "        \n",
    "for i in final_prescription_df.itertuples():\n",
    "    ind_ = i.Index\n",
    "    drug_ = i.DRUG\n",
    "    pre_drug_ = preprocess(drug_)\n",
    "    \n",
    "    if drug_ in drug_names_that_found_in_pubchem:\n",
    "        continue\n",
    "    elif drug_ in original_names_of_preproccesed_drugs:\n",
    "        continue\n",
    "    else:\n",
    "        missing_index_set.add(ind_)"
   ]
  },
  {
   "cell_type": "code",
   "execution_count": null,
   "id": "a2a9b1d2",
   "metadata": {},
   "outputs": [],
   "source": [
    "print(\"After searching preproccesed drug names in Pubchem, we have still\", len(missing_index_set), \"rows that we need to find\")"
   ]
  },
  {
   "cell_type": "markdown",
   "id": "47928fbc",
   "metadata": {},
   "source": [
    "### Search Based on Original Generic Drug Name in Pubchem"
   ]
  },
  {
   "cell_type": "code",
   "execution_count": null,
   "id": "2852044d",
   "metadata": {},
   "outputs": [],
   "source": [
    "generic_drug_names_for_search_set = set()\n",
    "for i in sub_prescription_df.itertuples():\n",
    "    \n",
    "    ind_ = i.Index\n",
    "    if ind_ not in missing_index_set:\n",
    "        continue\n",
    "    \n",
    "    drug_name_generic_ = i.DRUG_NAME_GENERIC\n",
    "\n",
    "    generic_drug_names_for_search_set.add(drug_name_generic_)"
   ]
  },
  {
   "cell_type": "code",
   "execution_count": null,
   "id": "f01d2239",
   "metadata": {},
   "outputs": [],
   "source": [
    "print(\"There are\", len(generic_drug_names_for_search_set), \"generic drugs name that we need to check\")\n",
    "print(\"Hovewer because we have already check\", len(generic_drug_names_for_search_set.intersection(all_drugs_missing_pubchem_set))\n",
    "     , \"we need to just check\", len(generic_drug_names_for_search_set.difference(all_drugs_missing_pubchem_set)))"
   ]
  },
  {
   "cell_type": "code",
   "execution_count": null,
   "id": "cd4005be",
   "metadata": {},
   "outputs": [],
   "source": [
    "# # ## Cause it is a little bit time consuming operation, we save these variables\n",
    "\n",
    "# missing_drugs_ = generic_drug_names_for_search_set.difference(all_drugs_missing_pubchem_set)\n",
    "\n",
    "# generic_drugs_pubchem_dict = {}\n",
    "\n",
    "# for generic_drug_name_ in missing_drugs_:\n",
    "    \n",
    "#     if isinstance(generic_drug_name_, float): continue\n",
    "    \n",
    "#     comps_ = get_compounds(generic_drug_name_, 'name')\n",
    "    \n",
    "#     if len(comps_) != 0:\n",
    "#         if generic_drug_name_ not in generic_drugs_pubchem_dict:\n",
    "#             generic_drugs_pubchem_dict[generic_drug_name_] = comps_\n",
    "# pd.to_pickle(generic_drugs_pubchem_dict, \"generic_drugs_pubchem_dict.p\")"
   ]
  },
  {
   "cell_type": "code",
   "execution_count": null,
   "id": "a88a7383",
   "metadata": {},
   "outputs": [],
   "source": [
    "generic_drugs_pubchem_dict = pd.read_pickle(\"generic_drugs_pubchem_dict.p\")"
   ]
  },
  {
   "cell_type": "code",
   "execution_count": null,
   "id": "f8db136b",
   "metadata": {},
   "outputs": [],
   "source": [
    "print(\"We find\",len(generic_drugs_pubchem_dict), \"drugs in pubchem with original generic drug name\")"
   ]
  },
  {
   "cell_type": "code",
   "execution_count": null,
   "id": "5b8a2c21",
   "metadata": {},
   "outputs": [],
   "source": [
    "#check how many rows find in prescription df\n",
    "\n",
    "missing_index_set = set()\n",
    "final_prescription_df = sub_prescription_df.loc[drug_index_set]\n",
    "\n",
    "drug_names_that_found_in_pubchem = set(all_drugs_pubchem_dict.keys())\n",
    "\n",
    "# find real drug names\n",
    "original_names_of_preproccesed_drugs = set()\n",
    "for pre_drug_ in preprocessed_drugs_pubchem_dict.keys():\n",
    "    for original_drug_ in preprocessed_to_drug_dict[pre_drug_]:\n",
    "        original_names_of_preproccesed_drugs.add(original_drug_)\n",
    "        \n",
    "for i in final_prescription_df.itertuples():\n",
    "    ind_ = i.Index\n",
    "    drug_ = i.DRUG\n",
    "    pre_drug_ = preprocess(drug_)\n",
    "    generic_drug_ = i.DRUG_NAME_GENERIC\n",
    "    \n",
    "    if drug_ in drug_names_that_found_in_pubchem:\n",
    "        continue\n",
    "    elif drug_ in original_names_of_preproccesed_drugs:\n",
    "        continue\n",
    "    elif generic_drug_ in generic_drugs_pubchem_dict:\n",
    "        continue\n",
    "    else:\n",
    "        missing_index_set.add(ind_)"
   ]
  },
  {
   "cell_type": "code",
   "execution_count": null,
   "id": "1cdeef75",
   "metadata": {},
   "outputs": [],
   "source": [
    "print(\"After searching generic drug names in Pubchem, we have still\", len(missing_index_set), \"rows that we need to find\")"
   ]
  },
  {
   "cell_type": "code",
   "execution_count": null,
   "id": "5f813707",
   "metadata": {},
   "outputs": [],
   "source": [
    "# from chembl_webresource_client.new_client import new_client\n",
    "# molecule = new_client.molecule\n",
    "# res = molecule.search('Albumin')\n",
    "\n",
    "# import cirpy\n",
    "# _ = cirpy.resolve('Albumin (Human)', 'smiles')"
   ]
  },
  {
   "cell_type": "markdown",
   "id": "e8befa8d",
   "metadata": {},
   "source": [
    "### Fixing Drug Names in Manuel"
   ]
  },
  {
   "cell_type": "code",
   "execution_count": null,
   "id": "cc57ac4b",
   "metadata": {},
   "outputs": [],
   "source": [
    "drug_lookup = { \"Metoprolol XL\": \"Metoprolol\",\n",
    "               \"NIFEdipine CR\": \"NIFEdipine\",\n",
    "               \"HYDROmorphone P.F.\": \"HYDROmorphone\",\n",
    "                \"Nicotine Patch\": \"Nicotine\",\n",
    "               \"Lidocaine 5% Patch\": \"Lidocaine\",\n",
    "               \"Lidocaine Jelly 2% (Urojet)\":\"Lidocaine\",\n",
    "               \"Miconazole Powder 2%\": \"Miconazole\",\n",
    "                \"Lactated Ringers\": \"Ringer's lactate\",\n",
    "                \"Piperacillin-Tazobactam Na\": \"Piperacillin-Tazobactam\",\n",
    "                \"Albuterol 0.083% Neb Soln\": \"Albuterol\",\n",
    "               \"Albuterol Inhaler\": \"Albuterol\",\n",
    "               \"Albuterol MDI\": \"Albuterol\",\n",
    "               \"Albuterol Neb Soln\":\"Albuterol\",\n",
    "               \"MethylPREDNISolone Sodium Succ\":\"MethylPREDNISolone\",\n",
    "               \"Methylprednisolone Na Succ\":\"MethylPREDNISolone\",\n",
    "               \"Methylprednisolone Na Succ.\":\"MethylPREDNISolone\",\n",
    "               \"Methylprednisolone Sodium Succ\":\"MethylPREDNISolone\",\n",
    "               \"Lansoprazole Oral Disintegrating Tab\": \"Lansoprazole\",\n",
    "               \"Isotonic Sodium Chloride\": \"Sodium Chloride\",\n",
    "               \"Vancomycin Oral Liquid\": \"Vancomycin\",\n",
    "               \"Mupirocin Nasal Ointment 2%\": \"Mupirocin\",\n",
    "               \"Sodium Chloride Nasal\": \"Sodium Chloride\",\n",
    "               \"Ciprofloxacin IV\": \"Ciprofloxacin\",\n",
    "               \"Brimonidine Tartrate 0.15% Ophth.\": \"Brimonidine Tartrate\",\n",
    "               \"NiCARdipine IV\": \"NiCARdipine\",\n",
    "               \"Nitroglycerin SL\": \"Nitroglycerin\",\n",
    "               \"Acetaminophen IV\": \"Acetaminophen\",\n",
    "               \"Acetaminophen-Caff-Butalbital\": \"Acetaminophen\",\n",
    "               \"Oxycodone-Acetaminophen (5mg-325mg)\": \"Acetaminophen\",\n",
    "               \"Latanoprost 0.005% Ophth. Soln.\": \"Latanoprost\",\n",
    "               \"Vasopressin\": \"argipressin\",\n",
    "               \"Albuterol-Ipratropium\": \"Albuterol\",\n",
    "                \"Aspirin EC\": \"aspirin\",\n",
    "               \"Hydrocortisone Na Succ.\":\"Hydrocortisone\",\n",
    "                \"Iso-Osmotic Dextrose\": \"Dextrose\",\n",
    "                \"Iso-Osmotic Sodium Chloride\": \"Sodium Chloride\",\n",
    "                \"D5W\": \"anhydrous dextrose\",\n",
    "               \"D5W (Glass Bottle)\": \"anhydrous dextrose\",\n",
    "               \"D5 1/2NS\": \"Sodium Chloride\",\n",
    "               \"D5NS\": \"Sodium Chloride\",\n",
    "               \"D5W (EXCEL BAG)\": \"anhydrous dextrose\",\n",
    "               \"D10W\": \"anhydrous dextrose\",\n",
    "               \"D7.5W\": \"anhydrous dextrose\",\n",
    "               \"sw\": \"water\",\n",
    "               \"*sw*\": \"water\",\n",
    "               \"steril water\": \"water\",\n",
    "               \"*ns*\": \"Sodium Chloride\",\n",
    "               \"Humulin-R Insulin\":\"insulin\",\n",
    "               \"Insulin Human Regular\": \"insulin\",\n",
    "                \"Sodium Chloride 0.9%  Flush\": \"Sodium Chloride\",\n",
    "                \"Oxycodone-Acetaminophen\": \"Oxycodone\",\n",
    "                \"Aspirin EC\": \"Aspirin\",\n",
    "                \"NS\": \"Sodium Chloride\",\n",
    "                \"1/2 NS\": \"Sodium Chloride\",\n",
    "                \"NS (Glass Bottle)\": \"Sodium Chloride\",\n",
    "                \"Ipratropium Bromide Neb\": \"Ipratropium Bromide\",\n",
    "                \"Piperacillin-Tazobactam Na\": \"Piperacillin\",\n",
    "                \"NS (Mini Bag Plus)\": \"Sodium Chloride\",\n",
    "                \"NS Epidural Bag (0.9% NaCl)\": \"Sodium Chloride\",\n",
    "                 \"NS        (Glass Bottle)\": \"Sodium Chloride\",\n",
    "                 \"NS Epidural Bag \": \"Sodium Chloride\",\n",
    "               \"Heparin Flush (10 units/ml)\": \"Heparin\",\n",
    "               \"Nitroprusside Sodium\": \"sodium nitroprusside\",\n",
    "               \"Eucerin\": \"Ensulizole\",\n",
    "                \"Heparin Flush PICC (100 units/ml)\":\"Heparin\",\n",
    "               \"Dorzolamide 2%/Timolol 0.5% Ophth.\": \"Dorzolamide\",\n",
    "               \"Heparin Flush (100 units/ml)\": \"Heparin\",\n",
    "               \"Heparin Flush CVL  (100 units/ml)\": \"Heparin\",\n",
    "              }\n",
    "\n",
    "manuel_fix_dict = {}\n",
    "for each_drug_ in drug_lookup:\n",
    "    comps_ = get_compounds(drug_lookup[each_drug_], 'name')\n",
    "    if len(comps_) != 0:\n",
    "        manuel_fix_dict[each_drug_] = comps_"
   ]
  },
  {
   "cell_type": "code",
   "execution_count": null,
   "id": "6721abca",
   "metadata": {},
   "outputs": [],
   "source": [
    "print(\"We find\",len(manuel_fix_dict), \"drugs in pubchem after change some drugs in manuely\")"
   ]
  },
  {
   "cell_type": "code",
   "execution_count": null,
   "id": "57eebb9a",
   "metadata": {},
   "outputs": [],
   "source": [
    "#check how many rows find in prescription df\n",
    "\n",
    "missing_index_set = set()\n",
    "final_prescription_df = sub_prescription_df.loc[drug_index_set]\n",
    "\n",
    "drug_names_that_found_in_pubchem = set(all_drugs_pubchem_dict.keys())\n",
    "\n",
    "# find real drug names\n",
    "original_names_of_preproccesed_drugs = set()\n",
    "for pre_drug_ in preprocessed_drugs_pubchem_dict.keys():\n",
    "    for original_drug_ in preprocessed_to_drug_dict[pre_drug_]:\n",
    "        original_names_of_preproccesed_drugs.add(original_drug_)\n",
    "        \n",
    "for i in final_prescription_df.itertuples():\n",
    "    ind_ = i.Index\n",
    "    drug_ = i.DRUG\n",
    "    pre_drug_ = preprocess(drug_)\n",
    "    generic_drug_ = i.DRUG_NAME_GENERIC\n",
    "    \n",
    "    if drug_ in drug_names_that_found_in_pubchem:\n",
    "        continue\n",
    "    elif drug_ in original_names_of_preproccesed_drugs:\n",
    "        continue\n",
    "    elif generic_drug_ in generic_drugs_pubchem_dict:\n",
    "        continue\n",
    "    elif drug_ in manuel_fix_dict:\n",
    "        continue\n",
    "    else:\n",
    "        missing_index_set.add(ind_)"
   ]
  },
  {
   "cell_type": "code",
   "execution_count": null,
   "id": "94c54d08",
   "metadata": {},
   "outputs": [],
   "source": [
    "print(\"After fixing some drug names and search in Pubchem, we have still\", len(missing_index_set), \"rows that we need to find\")"
   ]
  },
  {
   "cell_type": "markdown",
   "id": "08da4d39",
   "metadata": {},
   "source": [
    "### Analyze the remaining rows"
   ]
  },
  {
   "cell_type": "code",
   "execution_count": null,
   "id": "dba62c37",
   "metadata": {},
   "outputs": [],
   "source": [
    "analyze_prescription_df_ = sub_prescription_df.loc[missing_index_set]\n",
    "\n",
    "print(\"We need to find\", len(analyze_prescription_df_.DRUG.unique()), \"drug name or\", \n",
    "     len(analyze_prescription_df_.DRUG_NAME_GENERIC.unique()), \" generic drug name or\",\n",
    "     len(analyze_prescription_df_.NDC.unique()), \"ndc code\")"
   ]
  },
  {
   "cell_type": "markdown",
   "id": "b2964c4f",
   "metadata": {},
   "source": [
    "### Search Based on NDC Name "
   ]
  },
  {
   "cell_type": "code",
   "execution_count": null,
   "id": "dd8c2a6f",
   "metadata": {},
   "outputs": [],
   "source": [
    "ndc_path = \"ndcxls/\""
   ]
  },
  {
   "cell_type": "code",
   "execution_count": null,
   "id": "7b12e4f7",
   "metadata": {},
   "outputs": [],
   "source": [
    "product_df = pd.read_csv(os.path.join(ndc_path, \"product.csv\"), sep=\",\")\n",
    "unfinished_product_df = pd.read_csv(os.path.join(ndc_path, \"ndc_unfinished/unfinished_product.csv\"), sep=\",\")"
   ]
  },
  {
   "cell_type": "code",
   "execution_count": null,
   "id": "34c9278f",
   "metadata": {},
   "outputs": [],
   "source": [
    "def ndc_converter(raw_ndc):\n",
    "    #264751020.0 => 0264-7510\n",
    "    raw_ndc = str(raw_ndc)\n",
    "    ndc_ = raw_ndc.split(\".\")[0]        \n",
    "    \n",
    "    if len(ndc_) == 7:\n",
    "        temp1 = ndc_[:3]+\"-\"+ndc_[3:]\n",
    "        \n",
    "        new_ndc_ = \"0\"+ndc_\n",
    "        temp2 = new_ndc_[:4]+\"-\"\n",
    "        temp2 += new_ndc_[4:8]\n",
    "        \n",
    "        return temp1, temp2\n",
    "    elif len(ndc_) == 8:\n",
    "        temp1 = ndc_[:4]+\"-\"+ndc_[4:]\n",
    "        \n",
    "        new_ndc_ = \"0\"+ndc_\n",
    "        temp2 = new_ndc_[:4]+\"-\"\n",
    "        temp2 += new_ndc_[4:8]\n",
    "        \n",
    "        return temp1, temp2\n",
    "    elif len(ndc_) == 9:\n",
    "        temp1 = ndc_[:5]+\"-\"+ndc_[5:]\n",
    "        \n",
    "        new_ndc_ = \"0\"+ndc_\n",
    "        temp2 = new_ndc_[:4]+\"-\"\n",
    "        temp2 += new_ndc_[4:8]\n",
    "        \n",
    "        return temp1, temp2\n",
    "    else:\n",
    "        temp1 = \"\"\n",
    "        new_ndc_ = \"0\"+ndc_\n",
    "        temp2 = new_ndc_[:4]+\"-\"\n",
    "        temp2 += new_ndc_[4:8]\n",
    "        \n",
    "        return temp1, temp2\n",
    "    return None"
   ]
  },
  {
   "cell_type": "code",
   "execution_count": null,
   "id": "cba88e24",
   "metadata": {},
   "outputs": [],
   "source": [
    "# original_ndc_list_ = list(product_df.PRODUCTNDC.unique())\n",
    "# ndc_list_need_to_find = list(analyze_prescription_df_.NDC.unique())\n",
    "\n",
    "#product_df[product_df.PRODUCTNDC == '0264-7510']\n",
    "#final_prescription_df[final_prescription_df.NDC == 9076502.0]"
   ]
  },
  {
   "cell_type": "code",
   "execution_count": null,
   "id": "c3fe5c99",
   "metadata": {},
   "outputs": [],
   "source": [
    "# modified_ndc_list = set()\n",
    "# for i in original_ndc_list_:\n",
    "#     q_ = i.replace(\"-\",\"\")\n",
    "#     modified_ndc_list.add(q_)"
   ]
  },
  {
   "cell_type": "code",
   "execution_count": null,
   "id": "ac2b13cb",
   "metadata": {},
   "outputs": [],
   "source": [
    "# len(original_ndc_list_), len(modified_ndc_list)\n",
    "\n",
    "# from thefuzz import fuzz\n",
    "# from thefuzz import process\n",
    "\n",
    "# for i in ndc_list_need_to_find:\n",
    "#     q_ = str(i)\n",
    "#     print(q_)\n",
    "#     conv = ndc_converter(q_)\n",
    "#     for each_mod_ in modified_ndc_list:\n",
    "#         rat = fuzz.ratio(q_, each_mod_)\n",
    "#         rat2 = fuzz.ratio(conv, each_mod_)\n",
    "#         if rat > 75:\n",
    "#             print(\"1. \", rat, q_, each_mod_)\n",
    "#         if rat2 > 90:\n",
    "#             print(\"2. \", rat2, conv, each_mod_)\n",
    "#     print(\"##########\")"
   ]
  },
  {
   "cell_type": "code",
   "execution_count": null,
   "id": "3f0f49fc",
   "metadata": {},
   "outputs": [],
   "source": [
    "ndc_dict = {}\n",
    "ndc_list_ = list(analyze_prescription_df_.NDC.unique())\n",
    "for ndc_code_ in ndc_list_:\n",
    "    converted_, conv_2 = ndc_converter(ndc_code_)\n",
    "    \n",
    "    try:\n",
    "        temp_drug_name = product_df[product_df.PRODUCTNDC == converted_]['NONPROPRIETARYNAME'].iloc[0]\n",
    "        comps_ = get_compounds(temp_drug_name, 'name')\n",
    "        if len(comps_) != 0:\n",
    "            ndc_dict[ndc_code_] = comps_\n",
    "    except:\n",
    "        \n",
    "        try:\n",
    "            temp_drug_name = product_df[product_df.PRODUCTNDC == conv_2]['NONPROPRIETARYNAME'].iloc[0]\n",
    "            comps_ = get_compounds(temp_drug_name, 'name')\n",
    "            if len(comps_) != 0:\n",
    "                ndc_dict[ndc_code_] = comps_\n",
    "        except:\n",
    "            pass"
   ]
  },
  {
   "cell_type": "code",
   "execution_count": null,
   "id": "8bfe22a8",
   "metadata": {},
   "outputs": [],
   "source": [
    "len(ndc_dict)"
   ]
  },
  {
   "cell_type": "code",
   "execution_count": null,
   "id": "3a718ddf",
   "metadata": {},
   "outputs": [],
   "source": [
    "#check how many rows find in prescription df\n",
    "\n",
    "missing_index_set = set()\n",
    "final_prescription_df = sub_prescription_df.loc[drug_index_set]\n",
    "\n",
    "drug_names_that_found_in_pubchem = set(all_drugs_pubchem_dict.keys())\n",
    "\n",
    "# find real drug names\n",
    "original_names_of_preproccesed_drugs = set()\n",
    "for pre_drug_ in preprocessed_drugs_pubchem_dict.keys():\n",
    "    for original_drug_ in preprocessed_to_drug_dict[pre_drug_]:\n",
    "        original_names_of_preproccesed_drugs.add(original_drug_)\n",
    "        \n",
    "for i in final_prescription_df.itertuples():\n",
    "    ind_ = i.Index\n",
    "    drug_ = i.DRUG\n",
    "    pre_drug_ = preprocess(drug_)\n",
    "    generic_drug_ = i.DRUG_NAME_GENERIC\n",
    "    ndc_ = i.NDC\n",
    "    \n",
    "    if drug_ in drug_names_that_found_in_pubchem:\n",
    "        continue\n",
    "    elif drug_ in original_names_of_preproccesed_drugs:\n",
    "        continue\n",
    "    elif generic_drug_ in generic_drugs_pubchem_dict:\n",
    "        continue\n",
    "    elif drug_ in manuel_fix_dict:\n",
    "        continue\n",
    "    elif ndc_ in ndc_dict:\n",
    "        continue\n",
    "    else:\n",
    "        missing_index_set.add(ind_)"
   ]
  },
  {
   "cell_type": "code",
   "execution_count": null,
   "id": "d562717c",
   "metadata": {},
   "outputs": [],
   "source": [
    "print(\"After fixing some drug names and search in Pubchem, we have still\", len(missing_index_set), \"rows that we need to find\")"
   ]
  },
  {
   "cell_type": "code",
   "execution_count": null,
   "id": "ad80e627",
   "metadata": {},
   "outputs": [],
   "source": [
    "analyze_prescription_df_ = sub_prescription_df.loc[missing_index_set]\n",
    "\n",
    "print(\"We need to find\", len(analyze_prescription_df_.DRUG.unique()), \"drug name or\", \n",
    "     len(analyze_prescription_df_.DRUG_NAME_GENERIC.unique()), \" generic drug name or\",\n",
    "     len(analyze_prescription_df_.NDC.unique()), \"ndc code\")"
   ]
  },
  {
   "cell_type": "code",
   "execution_count": null,
   "id": "058519eb",
   "metadata": {},
   "outputs": [],
   "source": [
    "final_prescription_df.shape, len(missing_index_set)"
   ]
  },
  {
   "cell_type": "code",
   "execution_count": null,
   "id": "7488cd95",
   "metadata": {},
   "outputs": [],
   "source": [
    "32882 / 592946"
   ]
  },
  {
   "cell_type": "markdown",
   "id": "1d0667c5",
   "metadata": {},
   "source": [
    "### Create patient Dict based on pubchem results"
   ]
  },
  {
   "cell_type": "code",
   "execution_count": null,
   "id": "5c91efa1",
   "metadata": {},
   "outputs": [],
   "source": [
    "all_drugs_pubchem_dict\n",
    "preprocessed_drugs_pubchem_dict\n",
    "generic_drugs_pubchem_dict\n",
    "manuel_fix_dict\n",
    "ndc_dict"
   ]
  },
  {
   "cell_type": "code",
   "execution_count": null,
   "id": "2071d041",
   "metadata": {},
   "outputs": [],
   "source": [
    "patient_pubchem_dict = {}\n",
    "final_missed_index_set = set()\n",
    "\n",
    "for i in final_prescription_df.itertuples():\n",
    "\n",
    "    pat_id_ = i.SUBJECT_ID\n",
    "    \n",
    "    ind_ = i.Index\n",
    "    drug_ = i.DRUG\n",
    "    pre_drug_ = preprocess(drug_)\n",
    "    generic_drug_ = i.DRUG_NAME_GENERIC\n",
    "    ndc_ = i.NDC\n",
    "    \n",
    "    res_ = []\n",
    "    if drug_ in all_drugs_pubchem_dict:\n",
    "        res = all_drugs_pubchem_dict[drug_]\n",
    "    elif pre_drug_ in preprocessed_drugs_pubchem_dict:\n",
    "        res = preprocessed_drugs_pubchem_dict[pre_drug_]\n",
    "    elif generic_drug_ in generic_drugs_pubchem_dict:\n",
    "        res = generic_drugs_pubchem_dict[generic_drug_]\n",
    "    elif drug_ in manuel_fix_dict:\n",
    "        res = manuel_fix_dict[drug_]\n",
    "    elif ndc_ in ndc_dict:\n",
    "        res = ndc_dict[ndc_]\n",
    "    else:\n",
    "        final_missed_index_set.add(ind_)\n",
    "        \n",
    "    if pat_id_ in patient_pubchem_dict:\n",
    "        patient_pubchem_dict[pat_id_].append(res[0])\n",
    "    else:\n",
    "        patient_pubchem_dict[pat_id_] = [res[0]]\n",
    "    "
   ]
  },
  {
   "cell_type": "code",
   "execution_count": null,
   "id": "d9a4e278",
   "metadata": {},
   "outputs": [],
   "source": [
    "len(patient_pubchem_dict), len(final_missed_index_set)"
   ]
  },
  {
   "cell_type": "code",
   "execution_count": null,
   "id": "43e28882",
   "metadata": {},
   "outputs": [],
   "source": [
    "for patient_, drugs_ in patient_pubchem_dict.items():    \n",
    "    if len(drugs_) == 0:\n",
    "        print(patient_, len(drugs_))"
   ]
  },
  {
   "cell_type": "code",
   "execution_count": null,
   "id": "ea767bca",
   "metadata": {},
   "outputs": [],
   "source": [
    "pd.to_pickle(patient_pubchem_dict, \"patient_pubchem_dict.p\")"
   ]
  },
  {
   "cell_type": "code",
   "execution_count": null,
   "id": "d7b5d01f",
   "metadata": {},
   "outputs": [],
   "source": [
    "# import pandas as pd\n",
    "# q_ = pd.read_pickle(\"patient_pubchem_dict.p\")\n",
    "# all_unique_smiles = set()\n",
    "\n",
    "# for k,v in q_.items():\n",
    "#     for i in v:\n",
    "#         all_unique_smiles.add(i.canonical_smiles)"
   ]
  }
 ],
 "metadata": {
  "kernelspec": {
   "display_name": "Python 3 (ipykernel)",
   "language": "python",
   "name": "python3"
  },
  "language_info": {
   "codemirror_mode": {
    "name": "ipython",
    "version": 3
   },
   "file_extension": ".py",
   "mimetype": "text/x-python",
   "name": "python",
   "nbconvert_exporter": "python",
   "pygments_lexer": "ipython3",
   "version": "3.8.10"
  }
 },
 "nbformat": 4,
 "nbformat_minor": 5
}
