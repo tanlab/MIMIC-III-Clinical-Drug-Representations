{
 "cells": [
  {
   "cell_type": "code",
   "execution_count": null,
   "id": "81a5b4af",
   "metadata": {},
   "outputs": [],
   "source": [
    "import pandas as pd\n",
    "import numpy as np\n",
    "import re\n",
    "import math\n",
    "import os \n",
    "\n",
    "from pubchempy import get_compounds, Compound\n",
    "#from molvs import validate_smiles, standardize_smiles\n",
    "\n",
    "from rdkit import Chem\n",
    "from rdkit.Chem import AllChem\n",
    "from rdkit.Chem.Draw import IPythonConsole\n",
    "from rdkit.Chem import Draw\n",
    "from rdkit import DataStructs\n",
    "\n",
    "\n",
    "from rdkit.Chem.Fingerprints import FingerprintMols\n",
    "from rdkit.Chem.rdReducedGraphs import GetErGFingerprint\n",
    "\n",
    "# from DeepPurpose import utils, dataset\n",
    "# from DeepPurpose import DTI as models\n",
    "\n",
    "import deepchem as dc"
   ]
  },
  {
   "cell_type": "code",
   "execution_count": null,
   "id": "e5984909",
   "metadata": {},
   "outputs": [],
   "source": [
    "def create_train_val_test_dataset(smiles_train_dict, smiles_dev_dict, smiles_test_dict, feature_dict):\n",
    "    ## Train \n",
    "\n",
    "    train_dict_ = {}\n",
    "\n",
    "    for patient, smiles_list in smiles_train_dict.items():\n",
    "        temp = []\n",
    "        for smiles in smiles_list:\n",
    "            temp.append(feature_dict[smiles])\n",
    "\n",
    "        train_dict_[patient] = temp\n",
    "\n",
    "    ## Dev\n",
    "\n",
    "    dev_dict_ = {}\n",
    "\n",
    "    for patient, smiles_list in smiles_dev_dict.items():\n",
    "        temp = []\n",
    "        for smiles in smiles_list:\n",
    "            temp.append(feature_dict[smiles])\n",
    "\n",
    "        dev_dict_[patient] = temp\n",
    "\n",
    "    ## Test\n",
    "\n",
    "    test_dict_ = {}\n",
    "\n",
    "    for patient, smiles_list in smiles_test_dict.items():\n",
    "        temp = []\n",
    "        for smiles in smiles_list:\n",
    "            temp.append(feature_dict[smiles])\n",
    "\n",
    "        test_dict_[patient] = temp\n",
    "        \n",
    "    print(len(train_dict_), len(dev_dict_), len(test_dict_))\n",
    "    \n",
    "    return train_dict_, dev_dict_, test_dict_"
   ]
  },
  {
   "cell_type": "code",
   "execution_count": null,
   "id": "09198ce9",
   "metadata": {},
   "outputs": [],
   "source": [
    "# import deepchem as dc\n",
    "# smiles = [train.drug_encoding[0], \"CCC\"]\n",
    "# featurizer=dc.feat.ConvMolFeaturizer(per_atom_fragmentation=False)\n",
    "# f = featurizer.featurize(smiles)\n",
    "# # Using ConvMolFeaturizer to create featurized fragments derived from molecules of interest.\n",
    "# # This is used only in the context of performing interpretation of models using atomic\n",
    "# # contributions (atom-based model interpretation)\n",
    "\n",
    "# len(f) # contains 2 lists with  featurized fragments from 2 mols"
   ]
  },
  {
   "cell_type": "code",
   "execution_count": null,
   "id": "3e91d44e",
   "metadata": {},
   "outputs": [],
   "source": [
    "circular_featurizer_1024 = dc.feat.CircularFingerprint(size=1024, radius=4)  ## -----"
   ]
  },
  {
   "cell_type": "markdown",
   "id": "d3044f5d",
   "metadata": {},
   "source": [
    "## Read Data"
   ]
  },
  {
   "cell_type": "code",
   "execution_count": null,
   "id": "ada47704",
   "metadata": {},
   "outputs": [],
   "source": [
    "## Unique Drugs\n",
    "\n",
    "unique_path = \"data/drug_unique/\"\n",
    "\n",
    "patient_unique_canonical_smiles_dict = pd.read_pickle(os.path.join(unique_path, \"smiles_all.p\"))\n",
    "patient_unique_canonical_smiles_train_dict = pd.read_pickle(os.path.join(unique_path, \"smiles_train.p\"))\n",
    "patient_unique_canonical_smiles_dev_dict = pd.read_pickle(os.path.join(unique_path, \"smiles_dev.p\"))\n",
    "patient_unique_canonical_smiles_test_dict = pd.read_pickle(os.path.join(unique_path, \"smiles_test.p\"))"
   ]
  },
  {
   "cell_type": "code",
   "execution_count": null,
   "id": "d9cf5444",
   "metadata": {},
   "outputs": [],
   "source": [
    "all_smiles = set()\n",
    "for patient, smiles in patient_unique_canonical_smiles_dict.items():\n",
    "    for smile in smiles:\n",
    "        all_smiles.add(smile)"
   ]
  },
  {
   "cell_type": "code",
   "execution_count": null,
   "id": "543580e7",
   "metadata": {},
   "outputs": [],
   "source": [
    "print(\"Number of unique smiles \", len(all_smiles))"
   ]
  },
  {
   "cell_type": "markdown",
   "id": "6955bcbf",
   "metadata": {},
   "source": [
    "## ECFP"
   ]
  },
  {
   "cell_type": "code",
   "execution_count": null,
   "id": "ab7e4c93",
   "metadata": {},
   "outputs": [],
   "source": [
    "circular_featurizer_1024 = dc.feat.CircularFingerprint(size=1024)"
   ]
  },
  {
   "cell_type": "code",
   "execution_count": null,
   "id": "fdce92d0",
   "metadata": {},
   "outputs": [],
   "source": [
    "ecfp_1024_features = circular_featurizer_1024.featurize(all_smiles)"
   ]
  },
  {
   "cell_type": "code",
   "execution_count": null,
   "id": "e3254489",
   "metadata": {},
   "outputs": [],
   "source": [
    "smiles_ecfp_1024_dict = {}\n",
    "\n",
    "for smile, ecpf_1024 in zip(all_smiles, ecfp_1024_features):\n",
    "    smiles_ecfp_1024_dict[smile] = ecpf_1024"
   ]
  },
  {
   "cell_type": "markdown",
   "id": "10030026",
   "metadata": {},
   "source": [
    "### Unique"
   ]
  },
  {
   "cell_type": "code",
   "execution_count": null,
   "id": "62c98c70",
   "metadata": {},
   "outputs": [],
   "source": [
    "## Train \n",
    "\n",
    "patient_unique_ecfp_1024_train_dict = {}\n",
    "\n",
    "for patient, smiles_list in patient_unique_canonical_smiles_train_dict.items():\n",
    "    temp = []\n",
    "    for smiles in smiles_list:\n",
    "        temp.append(smiles_ecfp_1024_dict[smiles])\n",
    "    \n",
    "    patient_unique_ecfp_1024_train_dict[patient] = temp\n",
    "    \n",
    "## Dev\n",
    "\n",
    "patient_unique_ecfp_1024_dev_dict = {}\n",
    "\n",
    "for patient, smiles_list in patient_unique_canonical_smiles_dev_dict.items():\n",
    "    temp = []\n",
    "    for smiles in smiles_list:\n",
    "        temp.append(smiles_ecfp_1024_dict[smiles])\n",
    "    \n",
    "    patient_unique_ecfp_1024_dev_dict[patient] = temp\n",
    "    \n",
    "## Test\n",
    "\n",
    "patient_unique_ecfp_1024_test_dict = {}\n",
    "\n",
    "for patient, smiles_list in patient_unique_canonical_smiles_test_dict.items():\n",
    "    temp = []\n",
    "    for smiles in smiles_list:\n",
    "        temp.append(smiles_ecfp_1024_dict[smiles])\n",
    "    \n",
    "    patient_unique_ecfp_1024_test_dict[patient] = temp"
   ]
  },
  {
   "cell_type": "code",
   "execution_count": null,
   "id": "fd74567e",
   "metadata": {},
   "outputs": [],
   "source": [
    "len(patient_unique_ecfp_1024_train_dict), len(patient_unique_ecfp_1024_dev_dict), len(patient_unique_ecfp_1024_test_dict)"
   ]
  },
  {
   "cell_type": "code",
   "execution_count": null,
   "id": "44c86cc3",
   "metadata": {},
   "outputs": [],
   "source": [
    "unique_ecfp_1024_path = \"data/drug_unique/ecfp-1024/\"\n",
    "\n",
    "pd.to_pickle(patient_unique_ecfp_1024_train_dict, os.path.join(unique_ecfp_1024_path, \"ecfp_1024_unique_train.p\"))\n",
    "pd.to_pickle(patient_unique_ecfp_1024_dev_dict, os.path.join(unique_ecfp_1024_path, \"ecfp_1024_unique_dev.p\"))\n",
    "pd.to_pickle(patient_unique_ecfp_1024_test_dict, os.path.join(unique_ecfp_1024_path, \"ecfp_1024_unique_test.p\"))"
   ]
  },
  {
   "cell_type": "code",
   "execution_count": null,
   "id": "f8d24145",
   "metadata": {},
   "outputs": [],
   "source": [
    "# unique_ecfp_1024_path = \"data/drug_unique/ecfp-1024/\"\n",
    "\n",
    "# t = pd.read_pickle(os.path.join(unique_ecfp_1024_path, \"ecfp_1024_unique_train.p\"))\n",
    "# tt = pd.read_pickle(os.path.join(unique_ecfp_1024_path, \"ecfp_1024_unique_dev.p\"))\n",
    "# ttt = pd.read_pickle(os.path.join(unique_ecfp_1024_path, \"ecfp_1024_unique_test.p\"))"
   ]
  },
  {
   "cell_type": "markdown",
   "id": "3890d69e",
   "metadata": {},
   "source": [
    "## SMILES TRANSFORMER"
   ]
  },
  {
   "cell_type": "code",
   "execution_count": null,
   "id": "9a731398",
   "metadata": {},
   "outputs": [],
   "source": [
    "smiles_transformer_dict = pd.read_pickle(\"data/trfm.pickle\")"
   ]
  },
  {
   "cell_type": "markdown",
   "id": "6c933620",
   "metadata": {},
   "source": [
    "### Unique"
   ]
  },
  {
   "cell_type": "code",
   "execution_count": null,
   "id": "ae9b89d0",
   "metadata": {},
   "outputs": [],
   "source": [
    "train_smiles_transformer, dev_smiles_transformer, test_smiles_transformer = create_train_val_test_dataset(\n",
    "                                    patient_unique_canonical_smiles_train_dict,\n",
    "                                     patient_unique_canonical_smiles_dev_dict,\n",
    "                                     patient_unique_canonical_smiles_test_dict,\n",
    "                                    smiles_transformer_dict)"
   ]
  },
  {
   "cell_type": "code",
   "execution_count": null,
   "id": "e1069c62",
   "metadata": {},
   "outputs": [],
   "source": [
    "path = \"data/drug_unique/smiles-transformer/\"\n",
    "\n",
    "pd.to_pickle(train_smiles_transformer, os.path.join(path, \"smiles_transformer_unique_train.p\"))\n",
    "pd.to_pickle(dev_smiles_transformer, os.path.join(path, \"smiles_transformer_unique_dev.p\"))\n",
    "pd.to_pickle(test_smiles_transformer, os.path.join(path, \"smiles_transformer_unique_test.p\"))"
   ]
  }
 ],
 "metadata": {
  "kernelspec": {
   "display_name": "Python 3 (ipykernel)",
   "language": "python",
   "name": "python3"
  },
  "language_info": {
   "codemirror_mode": {
    "name": "ipython",
    "version": 3
   },
   "file_extension": ".py",
   "mimetype": "text/x-python",
   "name": "python",
   "nbconvert_exporter": "python",
   "pygments_lexer": "ipython3",
   "version": "3.8.10"
  }
 },
 "nbformat": 4,
 "nbformat_minor": 5
}
